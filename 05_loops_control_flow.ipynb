{
  "nbformat": 4,
  "nbformat_minor": 0,
  "metadata": {
    "colab": {
      "provenance": [],
      "authorship_tag": "ABX9TyOJemYps3uZhj7IAg9XHdkW",
      "include_colab_link": true
    },
    "kernelspec": {
      "name": "python3",
      "display_name": "Python 3"
    },
    "language_info": {
      "name": "python"
    }
  },
  "cells": [
    {
      "cell_type": "markdown",
      "metadata": {
        "id": "view-in-github",
        "colab_type": "text"
      },
      "source": [
        "<a href=\"https://colab.research.google.com/github/WARDAKAMRAN/q3-project-4/blob/main/05_loops_control_flow.ipynb\" target=\"_parent\"><img src=\"https://colab.research.google.com/assets/colab-badge.svg\" alt=\"Open In Colab\"/></a>"
      ]
    },
    {
      "cell_type": "code",
      "execution_count": null,
      "metadata": {
        "colab": {
          "base_uri": "https://localhost:8080/"
        },
        "id": "Mrd7NZ4Pw2yN",
        "outputId": "40b611c8-6eb2-4f34-9bef-d3d2e105cb84"
      },
      "outputs": [
        {
          "output_type": "stream",
          "name": "stdout",
          "text": [
            "00_guess_my_number\n",
            "I am thinking of a number between 1 and 99...\n",
            "Enter a guess: 56\n",
            "Your guess is too low. Try a higher number.\n",
            "Enter a guess: 98\n",
            "Your guess is too high. Try a lower number.\n",
            "Enter a guess: 69\n",
            "Your guess is too high. Try a lower number.\n",
            "Enter a guess: 57\n",
            "Your guess is too low. Try a higher number.\n",
            "Enter a guess: \n",
            "Invalid input! Please enter a valid number.\n",
            "Enter a guess: 12\n",
            "Your guess is too low. Try a higher number.\n",
            "Enter a guess: 15\n",
            "Your guess is too low. Try a higher number.\n",
            "Enter a guess: 20\n",
            "Your guess is too low. Try a higher number.\n",
            "Enter a guess: 25\n",
            "Your guess is too low. Try a higher number.\n",
            "Enter a guess: 30\n",
            "Your guess is too low. Try a higher number.\n",
            "Enter a guess: 35\n",
            "Your guess is too low. Try a higher number.\n",
            "Enter a guess: 40\n",
            "Your guess is too low. Try a higher number.\n",
            "Enter a guess: 45\n",
            "Your guess is too low. Try a higher number.\n",
            "Enter a guess: 50\n",
            "Your guess is too low. Try a higher number.\n",
            "Enter a guess: 55\n",
            "Your guess is too low. Try a higher number.\n",
            "Enter a guess: 60\n",
            "Your guess is too high. Try a lower number.\n",
            "Enter a guess: 56\n",
            "Your guess is too low. Try a higher number.\n",
            "Enter a guess: 57\n",
            "Your guess is too low. Try a higher number.\n",
            "Enter a guess: 58\n",
            "🎉 Congrats! The number was 58. You guessed it in 18 attempts!\n"
          ]
        }
      ],
      "source": [
        "print(\"00_guess_my_number\")\n",
        "import random\n",
        "\n",
        "def main():\n",
        "    secret_number = random.randint(1, 99)\n",
        "    guess_count = 0  # Track the number of guesses\n",
        "\n",
        "    print(\"I am thinking of a number between 1 and 99...\")\n",
        "\n",
        "    while True:\n",
        "        try:\n",
        "            guess = int(input(\"Enter a guess: \"))\n",
        "            guess_count += 1  # Increment guess count\n",
        "\n",
        "            if guess < secret_number:\n",
        "                print(\"Your guess is too low. Try a higher number.\")\n",
        "            elif guess > secret_number:\n",
        "                print(\"Your guess is too high. Try a lower number.\")\n",
        "            else:\n",
        "                print(f\"🎉 Congrats! The number was {secret_number}. You guessed it in {guess_count} attempts!\")\n",
        "                break  # Exit loop when guessed correctly\n",
        "        except ValueError:\n",
        "            print(\"Invalid input! Please enter a valid number.\")\n",
        "if __name__ == '__main__':\n",
        "    main()"
      ]
    },
    {
      "cell_type": "code",
      "source": [
        "print(\"01_fibonacci\")\n",
        "MAX_TERM_VALUE : int = 10000\n",
        "\n",
        "def main():\n",
        "    curr_term = 0  # The 0th Fibonacci Number\n",
        "    next_term = 1  # The 1st Fibonacci Number\n",
        "    while curr_term <= MAX_TERM_VALUE:\n",
        "        print(curr_term)\n",
        "        term_after_next = curr_term + next_term\n",
        "        curr_term = next_term\n",
        "        next_term = term_after_next\n",
        "\n",
        "\n",
        "if __name__ == '__main__':\n",
        "    main()"
      ],
      "metadata": {
        "colab": {
          "base_uri": "https://localhost:8080/"
        },
        "id": "EAWY2ecxGcnZ",
        "outputId": "177ae3f0-8d97-450c-a9e4-5d8179f1ea2a"
      },
      "execution_count": null,
      "outputs": [
        {
          "output_type": "stream",
          "name": "stdout",
          "text": [
            "01_fibonacci\n",
            "0\n",
            "1\n",
            "1\n",
            "2\n",
            "3\n",
            "5\n",
            "8\n",
            "13\n",
            "21\n",
            "34\n",
            "55\n",
            "89\n",
            "144\n",
            "233\n",
            "377\n",
            "610\n",
            "987\n",
            "1597\n",
            "2584\n",
            "4181\n",
            "6765\n"
          ]
        }
      ]
    },
    {
      "cell_type": "code",
      "source": [
        "print(\"04_liftof\")\n",
        "def main():\n",
        "    for i in range(10, 0, -1):  # Countdown from 10 to 1\n",
        "        print(i)\n",
        "    print(\"Liftoff!\")\n",
        "\n",
        "if __name__ == '__main__':\n",
        "    main()"
      ],
      "metadata": {
        "colab": {
          "base_uri": "https://localhost:8080/"
        },
        "id": "-Xoe4P-oIN-z",
        "outputId": "4955cd4f-4aea-4655-98d0-871bccdcc78c"
      },
      "execution_count": null,
      "outputs": [
        {
          "output_type": "stream",
          "name": "stdout",
          "text": [
            "04_liftof\n",
            "10\n",
            "9\n",
            "8\n",
            "7\n",
            "6\n",
            "5\n",
            "4\n",
            "3\n",
            "2\n",
            "1\n",
            "Liftoff!\n"
          ]
        }
      ]
    },
    {
      "cell_type": "code",
      "source": [
        "print(\"05_double_it\")\n",
        "def main():\n",
        "\n",
        "    curr_value = int(input(\"Enter a number: \"))\n",
        "\n",
        "    # Keep doubling the number until it reaches 100 or more\n",
        "    while curr_value < 100:\n",
        "        curr_value *= 2\n",
        "        print(curr_value)\n",
        "\n",
        "if __name__ == '__main__':\n",
        "    main()"
      ],
      "metadata": {
        "colab": {
          "base_uri": "https://localhost:8080/"
        },
        "id": "Edz7Dh8HMBMt",
        "outputId": "40ebe72d-4d9b-41e4-dd2b-a1ce6b2541b1"
      },
      "execution_count": null,
      "outputs": [
        {
          "output_type": "stream",
          "name": "stdout",
          "text": [
            "05_double_it\n",
            "Enter a number: 7\n",
            "14\n",
            "28\n",
            "56\n",
            "112\n"
          ]
        }
      ]
    },
    {
      "cell_type": "code",
      "source": [
        "print(\"03_wholesome_machine\")\n",
        "AFFIRMATION: str = \"I am capable of doing anything I put my mind to.\"\n",
        "\n",
        "def main():\n",
        "    print(\"Please type the following affirmation: \" + AFFIRMATION)\n",
        "\n",
        "    user_feedback = input().strip()  # Remove extra spaces\n",
        "    while user_feedback.lower() != AFFIRMATION.lower():  # Case-insensitive compare\n",
        "        print(\"That was not the affirmation.\")\n",
        "        print(\"Please type the following affirmation: \" + AFFIRMATION)\n",
        "        user_feedback = input().strip()\n",
        "\n",
        "    print(\"That's right! :)\")\n",
        "\n",
        "if __name__ == '__main__':\n",
        "    main()\n"
      ],
      "metadata": {
        "id": "eET6ZrdcL2ZD"
      },
      "execution_count": null,
      "outputs": []
    }
  ]
}