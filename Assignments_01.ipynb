{
  "nbformat": 4,
  "nbformat_minor": 0,
  "metadata": {
    "colab": {
      "provenance": [],
      "authorship_tag": "ABX9TyPGunITE+fqNgiNuQEGm92Q",
      "include_colab_link": true
    },
    "kernelspec": {
      "name": "python3",
      "display_name": "Python 3"
    },
    "language_info": {
      "name": "python"
    }
  },
  "cells": [
    {
      "cell_type": "markdown",
      "metadata": {
        "id": "view-in-github",
        "colab_type": "text"
      },
      "source": [
        "<a href=\"https://colab.research.google.com/github/WARDAKAMRAN/q3-project-4/blob/main/Assignments_01.ipynb\" target=\"_parent\"><img src=\"https://colab.research.google.com/assets/colab-badge.svg\" alt=\"Open In Colab\"/></a>"
      ]
    },
    {
      "cell_type": "code",
      "execution_count": null,
      "metadata": {
        "colab": {
          "base_uri": "https://localhost:8080/"
        },
        "id": "ql1xuY0NORLe",
        "outputId": "ba872181-2c9c-4012-bdbf-83c39b4daea4"
      },
      "outputs": [
        {
          "output_type": "stream",
          "name": "stdout",
          "text": [
            "01_basics/00_joke_bot\n",
            "What do you want? if you want a joke, type 'joke':  karachi mai bhot sarde ha \n",
            "Sorry I only tell jokes.\n"
          ]
        }
      ],
      "source": [
        "print(\"01_basics/00_joke_bot\")\n",
        "\n",
        "PROMPT: str = \"What do you want? if you want a joke, type 'joke': \"\n",
        "JOKE: str = \"Here is a joke for you! Panaversity GPT - Sophia is heading out to the grocery store. A programmer tells her: get a liter of milk, and if they have eggs, get 12. Sophia returns with 13 liters of milk. The programmer asks why and Sophia replies: 'because they had eggs'\"\n",
        "SORRY: str = \"Sorry I only tell jokes.\"\n",
        "\n",
        "def main():\n",
        "    user_input = input(PROMPT).strip()  # Get user input with trimming spaces\n",
        "\n",
        "    if user_input == \"joke\":\n",
        "        print(JOKE)\n",
        "    else:\n",
        "        print(SORRY)\n",
        "if __name__ == '__main__':\n",
        "    main()"
      ]
    },
    {
      "cell_type": "code",
      "source": [
        "print(\"01_double_it\")\n",
        "def main():\n",
        "\n",
        "    curr_value = int(input(\"Enter a number: \"))\n",
        "\n",
        "    # Keep doubling the number until it reaches 100 or more\n",
        "    while curr_value < 100:\n",
        "        curr_value *= 2\n",
        "        print(curr_value)\n",
        "\n",
        "if __name__ == '__main__':\n",
        "    main()"
      ],
      "metadata": {
        "colab": {
          "base_uri": "https://localhost:8080/"
        },
        "id": "ffDMcp1-jbl3",
        "outputId": "14638ee1-6c74-46a0-9a59-c7c3f06c805d"
      },
      "execution_count": null,
      "outputs": [
        {
          "output_type": "stream",
          "name": "stdout",
          "text": [
            "01_double_it\n",
            "Enter a number: 2\n",
            "4\n",
            "8\n",
            "16\n",
            "32\n",
            "64\n",
            "128\n"
          ]
        }
      ]
    },
    {
      "cell_type": "code",
      "source": [
        "print(\"02_liftof\")\n",
        "def main():\n",
        "    for i in range(10, 0, -1):  # Countdown from 10 to 1\n",
        "        print(i)\n",
        "    print(\"Liftoff!\")\n",
        "\n",
        "if __name__ == '__main__':\n",
        "    main()"
      ],
      "metadata": {
        "colab": {
          "base_uri": "https://localhost:8080/"
        },
        "id": "nKOrBjBJkHDf",
        "outputId": "3c8e1247-934e-400d-9c27-703e92473f05"
      },
      "execution_count": null,
      "outputs": [
        {
          "output_type": "stream",
          "name": "stdout",
          "text": [
            "02_liftof\n",
            "10\n",
            "9\n",
            "8\n",
            "7\n",
            "6\n",
            "5\n",
            "4\n",
            "3\n",
            "2\n",
            "1\n",
            "Liftoff!\n"
          ]
        }
      ]
    },
    {
      "cell_type": "code",
      "source": [
        "print(\"03_guess_my_number\")\n",
        "import random\n",
        "\n",
        "def main():\n",
        "    secret_number = random.randint(1, 99)\n",
        "    guess_count = 0  # Track the number of guesses\n",
        "\n",
        "    print(\"I am thinking of a number between 1 and 99...\")\n",
        "\n",
        "    while True:\n",
        "        try:\n",
        "            guess = int(input(\"Enter a guess: \"))\n",
        "            guess_count += 1  # Increment guess count\n",
        "\n",
        "            if guess < secret_number:\n",
        "                print(\"Your guess is too low. Try a higher number.\")\n",
        "            elif guess > secret_number:\n",
        "                print(\"Your guess is too high. Try a lower number.\")\n",
        "            else:\n",
        "                print(f\"🎉 Congrats! The number was {secret_number}. You guessed it in {guess_count} attempts!\")\n",
        "                break  # Exit loop when guessed correctly\n",
        "        except ValueError:\n",
        "            print(\"Invalid input! Please enter a valid number.\")\n",
        "if __name__ == '__main__':\n",
        "    main()"
      ],
      "metadata": {
        "colab": {
          "base_uri": "https://localhost:8080/"
        },
        "id": "zRQLjltRkg7v",
        "outputId": "55a26411-7029-4155-94b4-4532d1a0e617"
      },
      "execution_count": null,
      "outputs": [
        {
          "output_type": "stream",
          "name": "stdout",
          "text": [
            "03_guess_my_number\n",
            "I am thinking of a number between 1 and 99...\n",
            "Enter a guess: 46\n",
            "Your guess is too low. Try a higher number.\n",
            "Enter a guess: 49\n",
            "Your guess is too low. Try a higher number.\n",
            "Enter a guess: 48\n",
            "Your guess is too low. Try a higher number.\n",
            "Enter a guess: 58\n",
            "Your guess is too low. Try a higher number.\n",
            "Enter a guess: 65\n",
            "Your guess is too low. Try a higher number.\n",
            "Enter a guess: 70\n",
            "Your guess is too low. Try a higher number.\n",
            "Enter a guess: 75\n",
            "Your guess is too low. Try a higher number.\n",
            "Enter a guess: 80\n",
            "Your guess is too high. Try a lower number.\n",
            "Enter a guess: 76\n",
            "Your guess is too low. Try a higher number.\n",
            "Enter a guess: 77\n",
            "Your guess is too low. Try a higher number.\n",
            "Enter a guess: 78\n",
            "Your guess is too low. Try a higher number.\n",
            "Enter a guess: 79\n",
            "🎉 Congrats! The number was 79. You guessed it in 12 attempts!\n"
          ]
        }
      ]
    },
    {
      "cell_type": "code",
      "source": [
        "print(\"04_random_numbers\")\n",
        "import random\n",
        "\n",
        "N_NUMBERS: int = 10\n",
        "MIN_VALUE: int = 1\n",
        "MAX_VALUE: int = 100\n",
        "\n",
        "def main():\n",
        "    for _ in range(N_NUMBERS):  # Loop 10 times\n",
        "        print(random.randint(MIN_VALUE, MAX_VALUE))  # Generate and print a random number\n",
        "\n",
        "if __name__ == \"__main__\":\n",
        "    main()"
      ],
      "metadata": {
        "colab": {
          "base_uri": "https://localhost:8080/"
        },
        "id": "6vp0cEwIlQuN",
        "outputId": "39f06bf0-0b73-4400-f598-c8f764e85bc5"
      },
      "execution_count": null,
      "outputs": [
        {
          "output_type": "stream",
          "name": "stdout",
          "text": [
            "04_random_numbers\n",
            "56\n",
            "33\n",
            "64\n",
            "93\n",
            "40\n",
            "98\n",
            "20\n",
            "9\n",
            "78\n",
            "99\n"
          ]
        }
      ]
    }
  ]
}