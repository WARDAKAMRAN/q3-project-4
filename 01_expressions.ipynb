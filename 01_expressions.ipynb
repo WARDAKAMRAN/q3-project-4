{
  "nbformat": 4,
  "nbformat_minor": 0,
  "metadata": {
    "colab": {
      "provenance": [],
      "authorship_tag": "ABX9TyNA1+5YDAmKJRsR3fZIMFWc",
      "include_colab_link": true
    },
    "kernelspec": {
      "name": "python3",
      "display_name": "Python 3"
    },
    "language_info": {
      "name": "python"
    }
  },
  "cells": [
    {
      "cell_type": "markdown",
      "metadata": {
        "id": "view-in-github",
        "colab_type": "text"
      },
      "source": [
        "<a href=\"https://colab.research.google.com/github/WARDAKAMRAN/q3-project-4/blob/main/01_expressions.ipynb\" target=\"_parent\"><img src=\"https://colab.research.google.com/assets/colab-badge.svg\" alt=\"Open In Colab\"/></a>"
      ]
    },
    {
      "cell_type": "code",
      "execution_count": null,
      "metadata": {
        "colab": {
          "base_uri": "https://localhost:8080/"
        },
        "id": "UoF1JpgpiuHX",
        "outputId": "40655197-f9b2-47fc-b94d-b2cd10febbdb"
      },
      "outputs": [
        {
          "output_type": "stream",
          "name": "stdout",
          "text": [
            "01_dicesimulator\n",
            "die1 in main() starts as: 10\n",
            "Rolled: 4 and 3 - Total: 7\n",
            "Rolled: 5 and 4 - Total: 9\n",
            "Rolled: 2 and 4 - Total: 6\n",
            "die1 in main() is still: 10\n"
          ]
        }
      ],
      "source": [
        "print(\"01_dicesimulator\")\n",
        "import random\n",
        "\n",
        "NUM_SIDES = 6\n",
        "\n",
        "def roll_dice():\n",
        "    \"\"\"Simulates rolling two dice and prints their total\"\"\"\n",
        "    die1 = random.randint(1, NUM_SIDES)\n",
        "    die2 = random.randint(1, NUM_SIDES)\n",
        "    total = die1 + die2\n",
        "    print(f\"Rolled: {die1} and {die2} - Total: {total}\")\n",
        "\n",
        "def main():\n",
        "    die1 = 10\n",
        "    print(f\"die1 in main() starts as: {die1}\")\n",
        "\n",
        "    # Roll dice three times\n",
        "    for _ in range(3):\n",
        "        roll_dice()\n",
        "\n",
        "    print(f\"die1 in main() is still: {die1}\")  # Proving scope remains unchanged\n",
        "\n",
        "\n",
        "if __name__ == '__main__':\n",
        "    main()"
      ]
    },
    {
      "cell_type": "code",
      "source": [
        "print(\"02_e=mc2\")\n",
        "C = 299792458  # Speed of light in meters per second (m/s)\n",
        "\n",
        "def main():\n",
        "\n",
        "    mass_in_kg = float(input(\"Enter kilos of mass: \"))\n",
        "\n",
        "    # Calculate energy using Einstein's equation\n",
        "    energy_in_joules = mass_in_kg * (C ** 2)\n",
        "\n",
        "    # Result\n",
        "    print(\"\\ne = m * C^2...\")\n",
        "    print(f\"m = {mass_in_kg} kg\")\n",
        "    print(f\"C = {C} m/s\")\n",
        "    print(f\"{energy_in_joules:.6e} joules of energy!\")\n",
        "\n",
        "if __name__ == '__main__':\n",
        "    main()"
      ],
      "metadata": {
        "colab": {
          "base_uri": "https://localhost:8080/"
        },
        "id": "rM3a2kbVi2jb",
        "outputId": "695c92dc-9c40-44a1-9575-145c5b935649"
      },
      "execution_count": null,
      "outputs": [
        {
          "output_type": "stream",
          "name": "stdout",
          "text": [
            "02_e=mc2\n",
            "Enter kilos of mass: 9\n",
            "\n",
            "e = m * C^2...\n",
            "m = 9.0 kg\n",
            "C = 299792458 m/s\n",
            "8.088797e+17 joules of energy!\n"
          ]
        }
      ]
    },
    {
      "cell_type": "code",
      "source": [
        "\n",
        "print(\"03_feet_to_inches\")\n",
        "INCHES_IN_FOOT = 12\n",
        "\n",
        "def main():\n",
        "\n",
        "    feet = float(input(\"Enter number of feet: \"))\n",
        "\n",
        "    # Convert feet to inches\n",
        "    inches = feet * INCHES_IN_FOOT\n",
        "\n",
        "\n",
        "    print(f\"{feet} feet is equal to {inches} inches.\")\n",
        "\n",
        "if __name__ == '__main__':\n",
        "    main()\n"
      ],
      "metadata": {
        "colab": {
          "base_uri": "https://localhost:8080/"
        },
        "id": "_nqL2eHfsllU",
        "outputId": "6c5622d2-9ec6-4543-f8c4-9ffc9c4c7567"
      },
      "execution_count": null,
      "outputs": [
        {
          "output_type": "stream",
          "name": "stdout",
          "text": [
            "03_feet_to_inches\n",
            "Enter number of feet: 6\n",
            "6.0 feet is equal to 72.0 inches.\n"
          ]
        }
      ]
    },
    {
      "cell_type": "code",
      "source": [
        "print(\"04_pythagorean_theorem\")\n",
        "import math\n",
        "\n",
        "def main():\n",
        "    ab = float(input(\"Enter the length of AB: \"))\n",
        "    ac = float(input(\"Enter the length of AC: \"))\n",
        "\n",
        "    # Calculate the hypotenuse using Pythagorean theorem\n",
        "    bc = math.sqrt(ab*2 + ac*2)\n",
        "\n",
        "    print(f\"The length of BC (the hypotenuse) is: {bc:.2f}\")\n",
        "\n",
        "if __name__ == '__main__':\n",
        "    main()\n"
      ],
      "metadata": {
        "colab": {
          "base_uri": "https://localhost:8080/"
        },
        "id": "CSNuOdjZyH1t",
        "outputId": "f5b5afaa-0df1-48c1-cda5-8aedc9363299"
      },
      "execution_count": null,
      "outputs": [
        {
          "output_type": "stream",
          "name": "stdout",
          "text": [
            "04_pythagorean_theorem\n",
            "Enter the length of AB: 7\n",
            "Enter the length of AC: 9\n",
            "The length of BC (the hypotenuse) is: 5.66\n"
          ]
        }
      ]
    },
    {
      "cell_type": "code",
      "source": [],
      "metadata": {
        "id": "lFqmFs13c1TI"
      },
      "execution_count": null,
      "outputs": []
    },
    {
      "cell_type": "code",
      "source": [
        "print(\"05_remainder_division\")\n",
        "def main():\n",
        "    dividend = int(input(\"Please enter an integer to be divided: \"))\n",
        "    divisor = int(input(\"Please enter an integer to divide by: \"))\n",
        "\n",
        "    # Perform division and get remainder\n",
        "    quotient = dividend // divisor  # Integer division\n",
        "    remainder = dividend % divisor  # Modulus operation3\n",
        "\n",
        "    print(f\"The result of this division is {quotient} with a remainder of {remainder}\")\n",
        "\n",
        "if __name__ == '__main__':\n",
        "    main()\n",
        "\n"
      ],
      "metadata": {
        "colab": {
          "base_uri": "https://localhost:8080/"
        },
        "id": "upAaziGTy4ja",
        "outputId": "42d0548f-a3b2-4f19-8760-c343030b6444"
      },
      "execution_count": null,
      "outputs": [
        {
          "output_type": "stream",
          "name": "stdout",
          "text": [
            "05_remainder_division\n",
            "Please enter an integer to be divided: 7\n",
            "Please enter an integer to divide by: 8\n",
            "The result of this division is 0 with a remainder of 7\n"
          ]
        }
      ]
    },
    {
      "cell_type": "code",
      "source": [
        "print(\"06_rolldice\")\n",
        "import random\n",
        "\n",
        "NUM_SIDES = 6\n",
        "\n",
        "def main():\n",
        "    # Simulate rolling two dice\n",
        "    die1 = random.randint(1, NUM_SIDES)\n",
        "    die2 = random.randint(1, NUM_SIDES)\n",
        "\n",
        "    # Total\n",
        "    total = die1 + die2\n",
        "\n",
        "    print(f\"Each die has {NUM_SIDES} sides.\")\n",
        "    print(f\"First die: {die1}\")\n",
        "    print(f\"Second die: {die2}\")\n",
        "    print(f\"Total of two dice: {total}\")\n",
        "\n",
        "if __name__ == '__main__':\n",
        "    main()\n"
      ],
      "metadata": {
        "colab": {
          "base_uri": "https://localhost:8080/"
        },
        "id": "W6AWixqMz7q2",
        "outputId": "624594e2-19e2-4d74-cae3-a0c41c7cf2fc"
      },
      "execution_count": null,
      "outputs": [
        {
          "output_type": "stream",
          "name": "stdout",
          "text": [
            "06_rolldice\n",
            "Each die has 6 sides.\n",
            "First die: 3\n",
            "Second die: 5\n",
            "Total of two dice: 8\n"
          ]
        }
      ]
    },
    {
      "cell_type": "code",
      "source": [
        "print(\"07_tiny_mad_lib\")\n",
        "SENTENCE_START = \"Panaversity is fun. I learned to program and used Python to make my\"\n",
        "\n",
        "def main():\n",
        "\n",
        "    adjective = input(\"Please type an adjective and press enter: \")\n",
        "    noun = input(\"Please type a noun and press enter: \")\n",
        "    verb = input(\"Please type a verb and press enter: \")\n",
        "\n",
        "    print(f\"{SENTENCE_START} {adjective} {noun} {verb}!\")\n",
        "\n",
        "# Run the program\n",
        "if __name__ == '__main__':\n",
        "    main()\n"
      ],
      "metadata": {
        "colab": {
          "base_uri": "https://localhost:8080/"
        },
        "id": "t2OfmRGl04Q_",
        "outputId": "9c4283cc-35e7-499c-b47a-9cc04c9d6a3f"
      },
      "execution_count": null,
      "outputs": [
        {
          "output_type": "stream",
          "name": "stdout",
          "text": [
            "07_tiny_mad_lib\n",
            "Please type an adjective and press enter: y\n",
            "Please type a noun and press enter: u\n",
            "Please type a verb and press enter: o\n",
            "Panaversity is fun. I learned to program and used Python to make my y u o!\n"
          ]
        }
      ]
    }
  ]
}