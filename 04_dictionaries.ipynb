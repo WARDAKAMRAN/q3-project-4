{
  "nbformat": 4,
  "nbformat_minor": 0,
  "metadata": {
    "colab": {
      "provenance": [],
      "authorship_tag": "ABX9TyPG4S3im5SncrljHNhqKPB9",
      "include_colab_link": true
    },
    "kernelspec": {
      "name": "python3",
      "display_name": "Python 3"
    },
    "language_info": {
      "name": "python"
    }
  },
  "cells": [
    {
      "cell_type": "markdown",
      "metadata": {
        "id": "view-in-github",
        "colab_type": "text"
      },
      "source": [
        "<a href=\"https://colab.research.google.com/github/WARDAKAMRAN/q3-project-4/blob/main/04_dictionaries.ipynb\" target=\"_parent\"><img src=\"https://colab.research.google.com/assets/colab-badge.svg\" alt=\"Open In Colab\"/></a>"
      ]
    },
    {
      "cell_type": "code",
      "execution_count": null,
      "metadata": {
        "colab": {
          "base_uri": "https://localhost:8080/"
        },
        "id": "t-b74aE-Sfn0",
        "outputId": "240db626-df90-43c9-9b5d-2fe190446bef"
      },
      "outputs": [
        {
          "output_type": "stream",
          "name": "stdout",
          "text": [
            "00_count_nums\n",
            "Enter a number: 6\n",
            "Enter a number: 9\n",
            "Enter a number: 9\n",
            "Enter a number: 8\n",
            "Enter a number: 8\n",
            "Enter a number: 8\n",
            "Enter a number: \n",
            "6 appears 1 times.\n",
            "8 appears 3 times.\n",
            "9 appears 2 times.\n"
          ]
        }
      ],
      "source": [
        "print(\"00_count_nums\")\n",
        "def get_user_numbers():\n",
        "    \"\"\"\n",
        "    Prompts the user to input numbers and stores them in a list.\n",
        "    Stops when the user enters a blank line.\n",
        "    \"\"\"\n",
        "    user_numbers = []\n",
        "    while True:\n",
        "        user_input = input(\"Enter a number: \")\n",
        "\n",
        "        # Stop input when a blank line is entered\n",
        "        if user_input == \"\":\n",
        "            break\n",
        "\n",
        "        # Convert input to an integer and add it to the list\n",
        "        user_numbers.append(int(user_input))\n",
        "\n",
        "    return user_numbers\n",
        "\n",
        "def count_numbers(num_list):\n",
        "    \"\"\"\n",
        "    Counts the occurrences of each number in the list using a dictionary.\n",
        "    \"\"\"\n",
        "    num_dict = {}\n",
        "    for num in num_list:\n",
        "        num_dict[num] = num_dict.get(num, 0) + 1  # Increment count using .get()\n",
        "\n",
        "    return num_dict\n",
        "\n",
        "def print_counts(num_dict):\n",
        "    \"\"\"\n",
        "    Prints out the frequency of each number in the dictionary.\n",
        "    \"\"\"\n",
        "    for num, count in sorted(num_dict.items()):  # Sorting for a cleaner output\n",
        "        print(f\"{num} appears {count} times.\")\n",
        "\n",
        "def main():\n",
        "    \"\"\"\n",
        "    Main function to get user input, count occurrences, and display results.\n",
        "    \"\"\"\n",
        "    user_numbers = get_user_numbers()\n",
        "    num_dict = count_numbers(user_numbers)\n",
        "    print_counts(num_dict)\n",
        "\n",
        "# Boilerplate code to run the program\n",
        "if __name__ == \"__main__\":\n",
        "    main()\n"
      ]
    },
    {
      "cell_type": "code",
      "source": [
        "print(\"01_phonebook\")\n",
        "def read_phone_numbers():\n",
        "    \"\"\"\n",
        "    Collects user input to store names and phone numbers in a dictionary.\n",
        "    Stops when the user enters a blank name.\n",
        "    Returns the phonebook dictionary.\n",
        "    \"\"\"\n",
        "    phonebook = {}  # Initialize an empty phonebook\n",
        "\n",
        "    while True:\n",
        "        name = input(\"Name: \").strip()\n",
        "        if name == \"\":\n",
        "            break\n",
        "        number = input(\"Number: \").strip()\n",
        "        phonebook[name] = number  # Store name-number pair\n",
        "\n",
        "    return phonebook\n",
        "\n",
        "def print_phonebook(phonebook):\n",
        "    \"\"\"\n",
        "    Prints all entries in the phonebook.\n",
        "    \"\"\"\n",
        "    if not phonebook:\n",
        "        print(\"Phonebook is empty.\")\n",
        "        return\n",
        "\n",
        "    print(\"\\nPhonebook Entries:\")\n",
        "    for name, number in phonebook.items():\n",
        "        print(f\"{name} -> {number}\")\n",
        "\n",
        "def lookup_numbers(phonebook):\n",
        "    \"\"\"\n",
        "    Allows the user to search for phone numbers by entering a name.\n",
        "    Stops when a blank input is given.\n",
        "    \"\"\"\n",
        "    while True:\n",
        "        name = input(\"Enter name to lookup: \").strip()\n",
        "        if name == \"\":\n",
        "            break\n",
        "        print(phonebook.get(name, f\"{name} is not in the phonebook\"))\n",
        "\n",
        "def main():\n",
        "    \"\"\"\n",
        "    Runs the phonebook program: collects contacts, prints them, and allows lookups.\n",
        "    \"\"\"\n",
        "    phonebook = read_phone_numbers()\n",
        "    print_phonebook(phonebook)\n",
        "    lookup_numbers(phonebook)\n",
        "\n",
        "# Run the program\n",
        "if __name__ == \"__main__\":\n",
        "    main()\n"
      ],
      "metadata": {
        "colab": {
          "base_uri": "https://localhost:8080/"
        },
        "id": "S1IiL9rPW5Ea",
        "outputId": "64ff136f-3ea1-4a66-ca06-7593007ff1cf"
      },
      "execution_count": null,
      "outputs": [
        {
          "name": "stdout",
          "output_type": "stream",
          "text": [
            "01_phonebook\n",
            "Name: r\n",
            "Number: 7\n",
            "Name: 7\n",
            "Number: f\n",
            "Name: f\n",
            "Number: \n",
            "Name: \n",
            "\n",
            "Phonebook Entries:\n",
            "r -> 7\n",
            "7 -> f\n",
            "f -> \n",
            "Enter name to lookup: \n"
          ]
        }
      ]
    },
    {
      "cell_type": "code",
      "source": [
        "print(\"02_pop_up_shop\")\n",
        "def main():\n",
        "    \"\"\"\n",
        "    Asks the user how many of each fruit they want to buy and calculates the total cost.\n",
        "    \"\"\"\n",
        "    # Dictionary containing fruits and their prices\n",
        "    fruits = {\n",
        "        'apple': 1.5,\n",
        "        'durian': 50,\n",
        "        'jackfruit': 80,\n",
        "        'kiwi': 1,\n",
        "        'rambutan': 1.5,\n",
        "        'mango': 5\n",
        "    }\n",
        "\n",
        "    total_cost = 0  # Variable to keep track of total cost\n",
        "\n",
        "    # Loop through each fruit and prompt the user for quantity\n",
        "    for fruit_name, price in fruits.items():\n",
        "        while True:\n",
        "            try:\n",
        "                amount_bought = int(input(f\"How many ({fruit_name}) do you want to buy?: \").strip())\n",
        "                if amount_bought < 0:\n",
        "                    print(\"Please enter a valid non-negative number.\")\n",
        "                    continue\n",
        "                total_cost += price * amount_bought\n",
        "                break  # Exit loop if input is valid\n",
        "            except ValueError:\n",
        "                print(\"Invalid input! Please enter a number.\")\n",
        "\n",
        "    # Display total cost formatted to 2 decimal places\n",
        "    print(f\"Your total is ${total_cost:.2f}\")\n",
        "\n",
        "# Run the program\n",
        "if __name__ == \"__main__\":\n",
        "    main()\n"
      ],
      "metadata": {
        "colab": {
          "base_uri": "https://localhost:8080/"
        },
        "id": "4lss4lxAZ9Ae",
        "outputId": "b5f8a58e-62e9-4a6f-fe8d-8cef708aa118"
      },
      "execution_count": null,
      "outputs": [
        {
          "output_type": "stream",
          "name": "stdout",
          "text": [
            "02_pop_up_shop\n",
            "How many (apple) do you want to buy?: 6\n",
            "How many (durian) do you want to buy?: 5\n",
            "How many (jackfruit) do you want to buy?: 9\n",
            "How many (kiwi) do you want to buy?: 3\n",
            "How many (rambutan) do you want to buy?: 12\n",
            "How many (mango) do you want to buy?: 6\n",
            "Your total is $1030.00\n"
          ]
        }
      ]
    },
    {
      "cell_type": "code",
      "source": [
        "print(\"03_powerful_passwords\")\n",
        "print(\"03_powerful_passwords\")\n",
        "\n",
        "import hashlib\n",
        "\n",
        "def hash_password(password):\n",
        "    return hashlib.sha256(password.encode()).hexdigest()\n",
        "\n",
        "stored_logins = {\n",
        "    \"user@example.com\": hash_password(\"password123\"),\n",
        "    \"admin@example.com\": hash_password(\"adminpass\")\n",
        "}\n",
        "\n",
        "def login(email, password):\n",
        "    if email in stored_logins:\n",
        "        return stored_logins[email] == hash_password(password)\n",
        "    return False  # <-- yahan galti thi (extra space hata diya)\n",
        "\n",
        "if __name__ == \"__main__\":\n",
        "    email = input(\"Enter your email: \").strip()\n",
        "    password = input(\"Enter your password: \")\n",
        "\n",
        "    if login(email, password):\n",
        "        print(\"Login successful!\")\n",
        "    else:\n",
        "        print(\"Invalid email or password.\")\n",
        "\n",
        "\n",
        "\n",
        "\n",
        "\n",
        "\n",
        "\n"
      ],
      "metadata": {
        "colab": {
          "base_uri": "https://localhost:8080/"
        },
        "id": "ggz9dOlvc0uN",
        "outputId": "75d621b1-7a77-4d33-fdd7-a0cfb5ba1331"
      },
      "execution_count": null,
      "outputs": [
        {
          "output_type": "stream",
          "name": "stdout",
          "text": [
            "03_powerful_passwords\n",
            "03_powerful_passwords\n",
            "Enter your email: user@example.com\n",
            "Enter your password: password123\n",
            "Login successful!\n"
          ]
        }
      ]
    }
  ]
}