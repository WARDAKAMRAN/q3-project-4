{
  "nbformat": 4,
  "nbformat_minor": 0,
  "metadata": {
    "colab": {
      "provenance": [],
      "authorship_tag": "ABX9TyNd/h1S6g1qpmObHWqeCBrH",
      "include_colab_link": true
    },
    "kernelspec": {
      "name": "python3",
      "display_name": "Python 3"
    },
    "language_info": {
      "name": "python"
    }
  },
  "cells": [
    {
      "cell_type": "markdown",
      "metadata": {
        "id": "view-in-github",
        "colab_type": "text"
      },
      "source": [
        "<a href=\"https://colab.research.google.com/github/WARDAKAMRAN/q3-project-4/blob/main/02_lists.ipynb\" target=\"_parent\"><img src=\"https://colab.research.google.com/assets/colab-badge.svg\" alt=\"Open In Colab\"/></a>"
      ]
    },
    {
      "cell_type": "code",
      "execution_count": null,
      "metadata": {
        "colab": {
          "base_uri": "https://localhost:8080/"
        },
        "id": "EqSpp2kNrVxS",
        "outputId": "0ae14e6c-5db5-4c33-e17b-a4eb86e8e70a"
      },
      "outputs": [
        {
          "output_type": "stream",
          "name": "stdout",
          "text": [
            "01_add_many_number\n",
            "Sum of numbers: 15\n"
          ]
        }
      ],
      "source": [
        "print(\"01_add_many_number\")\n",
        "def add_many_numbers(numbers: list[int]) -> int:\n",
        "\n",
        "    return sum(numbers)\n",
        "\n",
        "def main():\n",
        "    numbers = [1, 2, 3, 4, 5]\n",
        "    sum_of_numbers = add_many_numbers(numbers)  # Calculate sum\n",
        "    print(f\"Sum of numbers: {sum_of_numbers}\")  # Output sum\n",
        "\n",
        "if __name__ == '__main__':\n",
        "    main()"
      ]
    },
    {
      "cell_type": "code",
      "source": [
        "print(\"02_double_list\")\n",
        "def double_numbers(numbers: list[int]) -> list[int]:\n",
        "\n",
        "    return [num * 2 for num in numbers]  # List comprehension for efficiency\n",
        "\n",
        "def main():\n",
        "    numbers = [1, 2, 3, 4]\n",
        "    doubled_numbers = double_numbers(numbers)  # Get the doubled list\n",
        "    print(doubled_numbers)  # Result\n",
        "\n",
        "\n",
        "if __name__ == '__main__':\n",
        "  main()"
      ],
      "metadata": {
        "colab": {
          "base_uri": "https://localhost:8080/"
        },
        "id": "Fs7j5De9wIZm",
        "outputId": "39b1abaf-4b89-4fee-fbca-73c39e168c0b"
      },
      "execution_count": null,
      "outputs": [
        {
          "output_type": "stream",
          "name": "stdout",
          "text": [
            "02_double_list\n",
            "[2, 4, 6, 8]\n"
          ]
        }
      ]
    },
    {
      "cell_type": "code",
      "source": [
        "print(\"04_flowing_with_data_structures\")\n",
        "def add_three_copies(my_list, data):\n",
        "    # Yeh loop 3 dafa data ko list mein add karega\n",
        "    for i in range(3):\n",
        "        my_list.append(data)\n",
        "\n",
        "def main():\n",
        "    # User se message lena\n",
        "    message = input(\"Enter a message to copy: \")\n",
        "\n",
        "    # Empty list banani\n",
        "    my_list = []\n",
        "\n",
        "    # List ko print karna function call se pehle\n",
        "    print(\"List before:\", my_list)\n",
        "\n",
        "    # add_three_copies function ko call karna\n",
        "    add_three_copies(my_list, message)\n",
        "\n",
        "    # List ko print karna function call ke baad\n",
        "    print(\"List after:\", my_list)\n",
        "\n",
        "if __name__ == \"__main__\":\n",
        "    main()\n"
      ],
      "metadata": {
        "colab": {
          "base_uri": "https://localhost:8080/"
        },
        "id": "wZwRex2xxi0u",
        "outputId": "38b8c408-cc08-4ee8-f3ec-4487574c15f6"
      },
      "execution_count": null,
      "outputs": [
        {
          "output_type": "stream",
          "name": "stdout",
          "text": [
            "04_flowing_with_data_structures\n",
            "Enter a message to copy: warda\n",
            "List before: []\n",
            "List after: ['warda', 'warda', 'warda']\n"
          ]
        }
      ]
    },
    {
      "cell_type": "code",
      "source": [
        "print(\"05_get_first_element\")\n",
        "def get_first_element(lst):\n",
        "\n",
        "    print(lst[0])\n",
        "\n",
        "def get_lst():\n",
        "\n",
        "    lst = []\n",
        "    elem = input(\"Please enter an element of the list or press enter to stop: \")\n",
        "    while elem != \"\":  # Keep adding elements until the user presses Enter\n",
        "        lst.append(elem)\n",
        "        elem = input(\"Please enter an element of the list or press enter to stop: \")\n",
        "    return lst\n",
        "\n",
        "def main():\n",
        "    lst = get_lst()  # Get user-inputted list\n",
        "    get_first_element(lst)  # Print first element\n",
        "\n",
        "if __name__ == '__main__':\n",
        "    main()"
      ],
      "metadata": {
        "colab": {
          "base_uri": "https://localhost:8080/"
        },
        "id": "wT6fH4QLzwpU",
        "outputId": "60ce071d-7ae9-4243-c341-008ff9f7d27a"
      },
      "execution_count": null,
      "outputs": [
        {
          "output_type": "stream",
          "name": "stdout",
          "text": [
            "05_get_first_element\n",
            "Please enter an element of the list or press enter to stop: warda\n",
            "Please enter an element of the list or press enter to stop: warda\n",
            "Please enter an element of the list or press enter to stop: warda\n",
            "Please enter an element of the list or press enter to stop: warda\n",
            "Please enter an element of the list or press enter to stop: \n",
            "warda\n"
          ]
        }
      ]
    },
    {
      "cell_type": "code",
      "source": [
        "print(\"06_get_last_element\")\n",
        "def get_last_element(lst):\n",
        "\n",
        "    print(lst[-1])\n",
        "\n",
        "\n",
        "def get_lst():\n",
        "\n",
        "    lst = []\n",
        "    elem = input(\"Please enter an element of the list or press enter to stop: \")\n",
        "    while elem != \"\":\n",
        "        lst.append(elem)\n",
        "        elem = input(\"Please enter an element of the list or press enter to stop: \")\n",
        "    return lst\n",
        "\n",
        "def main():\n",
        "    lst = get_lst()  # Get user-inputted list\n",
        "    get_last_element(lst)  # Print last element\n",
        "\n",
        "if __name__ == '__main__':\n",
        "    main()"
      ],
      "metadata": {
        "colab": {
          "base_uri": "https://localhost:8080/"
        },
        "id": "NFJ_FFCb0TUD",
        "outputId": "b29f2287-c7e9-4d5b-dd0c-a12b7abe2db9"
      },
      "execution_count": null,
      "outputs": [
        {
          "output_type": "stream",
          "name": "stdout",
          "text": [
            "06_get_last_element\n",
            "Please enter an element of the list or press enter to stop: warda\n",
            "Please enter an element of the list or press enter to stop: waled\n",
            "Please enter an element of the list or press enter to stop: noman\n",
            "Please enter an element of the list or press enter to stop: \n",
            "noman\n"
          ]
        }
      ]
    },
    {
      "cell_type": "code",
      "source": [
        "print(\"08_shorten\")\n",
        "MAX_LENGTH = 3\n",
        "\n",
        "def shorten(lst):\n",
        "\n",
        "    while len(lst) > MAX_LENGTH:\n",
        "        last_elem = lst.pop()  # Remove the last element\n",
        "        print(last_elem)  # Print the removed element\n",
        "\n",
        "def get_lst():\n",
        "\n",
        "    lst = []\n",
        "    elem = input(\"Please enter an element of the list or press enter to stop: \")\n",
        "    while elem != \"\":\n",
        "        lst.append(elem)\n",
        "        elem = input(\"Please enter an element of the list or press enter to stop: \")\n",
        "    return lst\n",
        "\n",
        "def main():\n",
        "    lst = get_lst()  # Get the list from the user\n",
        "    shorten(lst)  # Call shorten function to modify the list\n",
        "\n",
        "if __name__ == '__main__':\n",
        "    main()"
      ],
      "metadata": {
        "colab": {
          "base_uri": "https://localhost:8080/"
        },
        "id": "CReBfRTf1nVZ",
        "outputId": "d19c11e1-e40c-4a62-e173-b1c2fc9d6029"
      },
      "execution_count": null,
      "outputs": [
        {
          "output_type": "stream",
          "name": "stdout",
          "text": [
            "08_shorten\n",
            "Please enter an element of the list or press enter to stop: y\n",
            "Please enter an element of the list or press enter to stop: q\n",
            "Please enter an element of the list or press enter to stop: l\n",
            "Please enter an element of the list or press enter to stop: j\n",
            "Please enter an element of the list or press enter to stop: y\n",
            "Please enter an element of the list or press enter to stop: t\n",
            "Please enter an element of the list or press enter to stop: p\n",
            "Please enter an element of the list or press enter to stop: m\n",
            "Please enter an element of the list or press enter to stop: g\n",
            "Please enter an element of the list or press enter to stop: r\n",
            "Please enter an element of the list or press enter to stop: e\n",
            "Please enter an element of the list or press enter to stop: v\n",
            "Please enter an element of the list or press enter to stop: m\n",
            "Please enter an element of the list or press enter to stop: s\n",
            "Please enter an element of the list or press enter to stop: \n",
            "s\n",
            "m\n",
            "v\n",
            "e\n",
            "r\n",
            "g\n",
            "m\n",
            "p\n",
            "t\n",
            "y\n",
            "j\n"
          ]
        }
      ]
    }
  ]
}