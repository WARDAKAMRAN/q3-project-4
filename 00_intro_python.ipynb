{
  "cells": [
    {
      "cell_type": "markdown",
      "metadata": {
        "id": "view-in-github",
        "colab_type": "text"
      },
      "source": [
        "<a href=\"https://colab.research.google.com/github/WARDAKAMRAN/q3-project-4/blob/main/00_intro_python.ipynb\" target=\"_parent\"><img src=\"https://colab.research.google.com/assets/colab-badge.svg\" alt=\"Open In Colab\"/></a>"
      ]
    },
    {
      "cell_type": "code",
      "execution_count": null,
      "metadata": {
        "colab": {
          "base_uri": "https://localhost:8080/"
        },
        "id": "rI_uBnX1wqt4",
        "outputId": "abb038ff-eb18-43d8-8b0f-5635dcdcf763"
      },
      "outputs": [
        {
          "name": "stdout",
          "output_type": "stream",
          "text": [
            "01_add_to_numbers\n",
            " Enter the first number: 5\n",
            "Enter the second number: 5\n",
            "The sum of the two numbers is: 10\n"
          ]
        }
      ],
      "source": [
        "print(\"01_add_to_numbers\")\n",
        "\n",
        "def main():\n",
        "\n",
        "    num1 = input(\" Enter the first number: \")\n",
        "\n",
        "    num1 = int(num1)\n",
        "\n",
        "    num2 = input(\"Enter the second number: \")\n",
        "\n",
        "    num2 = int(num2)\n",
        "\n",
        "    total_sum = num1 + num2\n",
        "\n",
        "    print(f\"The sum of the two numbers is: {total_sum}\")\n",
        "\n",
        "if __name__ == \"__main__\":\n",
        "    main()\n",
        "\n"
      ]
    },
    {
      "cell_type": "code",
      "source": [
        "print(\"02-agreement-bot\")\n",
        "def main():\n",
        "\n",
        "    animal = input(\" What's your favorite animal______? \")\n",
        "\n",
        "\n",
        "    print(f\"My favorite animal is also {animal}!\")\n",
        "\n",
        "\n",
        "if __name__ == '__main__':\n",
        "    main()"
      ],
      "metadata": {
        "colab": {
          "base_uri": "https://localhost:8080/"
        },
        "id": "Qdy0CtNmS5pS",
        "outputId": "2f56de79-d2c5-403e-8298-a19f3dcb19fe"
      },
      "execution_count": null,
      "outputs": [
        {
          "output_type": "stream",
          "name": "stdout",
          "text": [
            "02-agreement-bot\n",
            " What's your favorite animal______? cat\n",
            "My favorite animal is also cat!\n"
          ]
        }
      ]
    },
    {
      "cell_type": "code",
      "source": [
        "\n",
        "print(\"03_fahrenheit_to_celsius\")\n",
        "def main():\n",
        "\n",
        "    fahrenheit = float(input(\"\\033[1;3m Enter temperature in Fahrenheit: \\033[0m\"))\n",
        "\n",
        "\n",
        "    celsius = (fahrenheit - 32) * 5.0 / 9.0\n",
        "\n",
        "    print(f\"Temperature: {fahrenheit}F = {celsius}C\")\n",
        "\n",
        "\n",
        "\n",
        "if __name__ == '__main__':\n",
        "    main()"
      ],
      "metadata": {
        "colab": {
          "base_uri": "https://localhost:8080/"
        },
        "id": "I77a3CAKToR_",
        "outputId": "8e1c4e5d-05e7-4b93-e284-efa91f893dc7"
      },
      "execution_count": null,
      "outputs": [
        {
          "output_type": "stream",
          "name": "stdout",
          "text": [
            "03_fahrenheit_to_celsius\n",
            "\u001b[1;3m Enter temperature in Fahrenheit: \u001b[0m6\n",
            "Temperature: 6.0F = -14.444444444444445C\n"
          ]
        }
      ]
    },
    {
      "cell_type": "code",
      "source": [
        "print(\"04_how_old_are_they\")\n",
        "def main():\n",
        "\n",
        "# Assigning ages based on the given relationships\n",
        "    Anton = 21\n",
        "    Beth = Anton + 6\n",
        "    Chen = Beth + 20\n",
        "    Drew = Anton + Chen\n",
        "    Ethan = Chen\n",
        "\n",
        "    # Printing the names and ages in the required format\n",
        "    print(f\"Anton is {Anton} years old\")\n",
        "    print(f\"Beth is {Beth} years old\")\n",
        "    print(f\"Chen is {Chen}years old\")\n",
        "    print(f\"Drew is {Drew}years old\")\n",
        "    print(f\"Ethan is {Ethan}years old\")\n",
        "\n",
        "if __name__ == '__main__':\n",
        "    main()"
      ],
      "metadata": {
        "colab": {
          "base_uri": "https://localhost:8080/"
        },
        "id": "Mjt5N82jVcrl",
        "outputId": "67954405-e58f-4b60-a14f-81075ef6923a"
      },
      "execution_count": null,
      "outputs": [
        {
          "output_type": "stream",
          "name": "stdout",
          "text": [
            "04_how_old_are_they\n",
            "Anton is 21 years old\n",
            "Beth is 27 years old\n",
            "Chen is 47years old\n",
            "Drew is 68years old\n",
            "Ethan is 47years old\n"
          ]
        }
      ]
    },
    {
      "cell_type": "code",
      "source": [
        "print(\"05_triangle_perimeter\")\n",
        "def main():\n",
        "    # Ask for first side length\n",
        "    side1 = float(input(\"What is the length of side 1? \"))\n",
        "    print(f\"***{side1}***\")  # Print user input in bold italic\n",
        "\n",
        "    # Ask for second side length\n",
        "    side2 = float(input(\"What is the length of side 2? \"))\n",
        "    print(f\"***{side2}***\")  # Print user input in bold italic\n",
        "\n",
        "    # Ask for third side length\n",
        "    side3 = float(input(\"What is the length of side 3? \"))\n",
        "    print(f\"***{side3}***\")  # Print user input in bold italic\n",
        "\n",
        "    # Calculate the perimeter\n",
        "    perimeter = side1 + side2 + side3\n",
        "\n",
        "    # Print the result in bold italic\n",
        "    print(\"\\nThe perimeter of the triangle is \" + f\"***{perimeter}***\")\n",
        "\n",
        "\n",
        "# 🔽 This makes sure the program runs when the script is executed\n",
        "if __name__ == '__main__':\n",
        "    main()\n"
      ],
      "metadata": {
        "colab": {
          "base_uri": "https://localhost:8080/"
        },
        "id": "bftXMWS3ealG",
        "outputId": "61b76f27-e745-4a14-cd12-bee31e313b9b"
      },
      "execution_count": null,
      "outputs": [
        {
          "output_type": "stream",
          "name": "stdout",
          "text": [
            "05_triangle_perimeter\n",
            "What is the length of side 1? 4\n",
            "***4.0***\n",
            "What is the length of side 2? 4\n",
            "***4.0***\n",
            "What is the length of side 3? 4\n",
            "***4.0***\n",
            "\n",
            "The perimeter of the triangle is ***12.0***\n"
          ]
        }
      ]
    },
    {
      "cell_type": "code",
      "source": [
        "print(\"06-square-number\")\n",
        "def main():\n",
        "    #  Ask the user to enter a number\n",
        "    num = float(input(\"Type a number to see its square: \"))\n",
        "    print(f\"***{num}***\")  # Show user input in bold italic\n",
        "\n",
        "    # Calculate the square\n",
        "    square = num ** 2\n",
        "\n",
        "    # Display the result\n",
        "    print(f\"\\n***{num}*** squared is ***{square}***\")\n",
        "\n",
        "\n",
        "# 🔽 Run the program\n",
        "if __name__ == '__main__':\n",
        "    main()\n"
      ],
      "metadata": {
        "colab": {
          "base_uri": "https://localhost:8080/"
        },
        "id": "eqsjF3t9e0C-",
        "outputId": "505dd666-b689-4a67-9b7a-cccb54e11878"
      },
      "execution_count": null,
      "outputs": [
        {
          "output_type": "stream",
          "name": "stdout",
          "text": [
            "Type a number to see its square: 5\n",
            "***5.0***\n",
            "\n",
            "***5.0*** squared is ***25.0***\n"
          ]
        }
      ]
    }
  ],
  "metadata": {
    "colab": {
      "provenance": [],
      "authorship_tag": "ABX9TyNWvKOSiRirt1Q92b7dTYjG",
      "include_colab_link": true
    },
    "kernelspec": {
      "display_name": "Python 3",
      "name": "python3"
    },
    "language_info": {
      "name": "python"
    }
  },
  "nbformat": 4,
  "nbformat_minor": 0
}